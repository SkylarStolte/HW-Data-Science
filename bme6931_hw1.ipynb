{
 "cells": [
  {
   "cell_type": "markdown",
   "metadata": {},
   "source": [
    "Skylar Stolte\n",
    "10/02/18\n",
    "BME6938\n",
    "Homework 1"
   ]
  },
  {
   "cell_type": "markdown",
   "metadata": {},
   "source": [
    "Part A: Load the Dataset into a Notebook"
   ]
  },
  {
   "cell_type": "code",
   "execution_count": 40,
   "metadata": {},
   "outputs": [],
   "source": [
    "#import libraries for use\n",
    "import numpy as np\n",
    "import matplotlib.pyplot as plt\n",
    "import pandas as pd\n",
    "from urllib.request import urlopen\n",
    "import pylab\n",
    "import seaborn as sns"
   ]
  },
  {
   "cell_type": "code",
   "execution_count": 41,
   "metadata": {},
   "outputs": [],
   "source": [
    "#import data from url\n",
    "url = 'http://archive.ics.uci.edu/ml/machine-learning-databases/postoperative-patient-data/post-operative.data'\n",
    "headers = [\"L-CORE\", \"L-SURF\", \"L-02\", \"L-BP\", \"SURF-STBL\", \"CORE-STBL\", \"BP-STBL\", \"COMFORT\", \"decision ADM-DECS\"] #proper headings\n",
    "Post_OP_data = pd.read_csv(url,delimiter = ',', names = headers, skipinitialspace = True)"
   ]
  },
  {
   "cell_type": "markdown",
   "metadata": {},
   "source": [
    "Part C: Perform any preprocessing steps and explain why any step was needed in a markdown cell below."
   ]
  },
  {
   "cell_type": "code",
   "execution_count": 42,
   "metadata": {},
   "outputs": [],
   "source": [
    "#Preprocessing: remove random spacing\n",
    "for i in headers:\n",
    "    Post_OP_data[i] = Post_OP_data[i].map(str.strip)"
   ]
  },
  {
   "cell_type": "markdown",
   "metadata": {},
   "source": [
    "First preprocessing stage: this stage is necessary to remove random spacing that appears in strings, like that due to a typo when a resident is entering clinical data into the system. The \"for\" loop iterates through all headers so spacing is removed wherever it might appear and the data is alligned. An \"A\" was experimentally observed as \"A \" in row three originally."
   ]
  },
  {
   "cell_type": "code",
   "execution_count": 43,
   "metadata": {},
   "outputs": [],
   "source": [
    "#load text files that represent index and post-op names\n",
    "INDEX_data = open('INDEX.txt', 'r').read()\n",
    "Post_OP_name = open('post-operative_names.txt', 'r').read()"
   ]
  },
  {
   "cell_type": "code",
   "execution_count": 44,
   "metadata": {},
   "outputs": [
    {
     "name": "stdout",
     "output_type": "stream",
     "text": [
      "Index of postoperative-patient-data\n",
      "\n",
      "02 Dec 1996      147 Index\n",
      "29 Jun 1993     2695 post-operative.names\n",
      "28 Jun 1993     4379 post-operative.data\n",
      "\n",
      "   L-CORE L-SURF       L-02  L-BP SURF-STBL CORE-STBL     BP-STBL COMFORT  \\\n",
      "0     mid    low  excellent   mid    stable    stable      stable      15   \n",
      "1     mid   high  excellent  high    stable    stable      stable      10   \n",
      "2    high    low  excellent  high    stable    stable  mod-stable      10   \n",
      "3     mid    low       good  high    stable  unstable  mod-stable      15   \n",
      "4     mid    mid  excellent  high    stable    stable      stable      10   \n",
      "5    high    low       good   mid    stable    stable    unstable      15   \n",
      "6     mid    low  excellent  high    stable    stable  mod-stable      05   \n",
      "7    high    mid  excellent   mid  unstable  unstable      stable      10   \n",
      "8     mid   high       good   mid    stable    stable      stable      10   \n",
      "9     mid    low  excellent   mid  unstable    stable  mod-stable      10   \n",
      "10    mid    mid       good   mid    stable    stable      stable      15   \n",
      "11    mid    low       good  high    stable    stable  mod-stable      10   \n",
      "12   high   high  excellent  high  unstable    stable    unstable      15   \n",
      "13    mid   high       good   mid  unstable    stable  mod-stable      10   \n",
      "14    mid    low       good  high  unstable  unstable      stable      15   \n",
      "15   high   high  excellent  high  unstable    stable    unstable      10   \n",
      "16    low   high       good  high  unstable    stable  mod-stable      15   \n",
      "17    mid    low       good  high  unstable    stable      stable      10   \n",
      "18    mid   high       good   mid  unstable    stable    unstable      15   \n",
      "19    mid    mid       good   mid    stable    stable      stable      10   \n",
      "20    low   high       good   mid  unstable    stable      stable      15   \n",
      "21    low    mid  excellent  high  unstable    stable    unstable      10   \n",
      "22    mid    mid       good   mid  unstable    stable    unstable      15   \n",
      "23    mid    mid       good   mid  unstable    stable      stable      10   \n",
      "24   high   high       good   mid    stable    stable  mod-stable      10   \n",
      "25    low    mid       good   mid  unstable    stable      stable      10   \n",
      "26   high    mid       good   low    stable    stable  mod-stable      10   \n",
      "27    low    mid  excellent  high    stable    stable  mod-stable      10   \n",
      "28    mid    mid  excellent   mid    stable    stable    unstable      15   \n",
      "29    mid    mid       good   mid  unstable    stable    unstable      10   \n",
      "..    ...    ...        ...   ...       ...       ...         ...     ...   \n",
      "60    mid   high       good   mid  unstable    stable    unstable      10   \n",
      "61    mid    low  excellent  high    stable    stable      stable      10   \n",
      "62    mid    mid       good   mid    stable    stable    unstable      10   \n",
      "63    mid    low  excellent   mid    stable    stable    unstable      10   \n",
      "64   high    mid  excellent   mid  unstable  unstable    unstable      10   \n",
      "65    mid    mid       good  high    stable    stable      stable      10   \n",
      "66    mid    low  excellent   mid  unstable    stable      stable      10   \n",
      "67    mid    mid  excellent   mid  unstable    stable      stable      10   \n",
      "68    mid    mid  excellent  high    stable    stable      stable      10   \n",
      "69    mid    mid  excellent   low    stable    stable      stable      10   \n",
      "70    mid    low  excellent   mid  unstable  unstable    unstable       ?   \n",
      "71    low    low  excellent   mid    stable    stable      stable      10   \n",
      "72    mid    mid  excellent   mid    stable    stable  mod-stable      10   \n",
      "73    mid    mid  excellent  high    stable    stable      stable      10   \n",
      "74    mid    low  excellent  high    stable    stable  mod-stable      10   \n",
      "75    low    mid       good   mid    stable    stable    unstable      10   \n",
      "76    mid    mid  excellent   mid    stable    stable  mod-stable      10   \n",
      "77    mid    mid  excellent   mid    stable    stable    unstable      10   \n",
      "78    mid    mid  excellent   mid  unstable  unstable      stable      10   \n",
      "79    mid    mid       good  high    stable    stable      stable      10   \n",
      "80    mid    mid  excellent   mid    stable    stable      stable      15   \n",
      "81    mid    mid  excellent   mid    stable    stable      stable      10   \n",
      "82    mid    low       good   mid    stable    stable    unstable      10   \n",
      "83   high    mid  excellent   mid  unstable    stable    unstable      05   \n",
      "84    mid    mid  excellent   mid    stable    stable    unstable      10   \n",
      "85    mid    mid  excellent   mid  unstable    stable      stable      10   \n",
      "86    mid    mid  excellent   mid  unstable    stable      stable      15   \n",
      "87    mid    mid       good   mid  unstable    stable      stable      15   \n",
      "88    mid    mid  excellent   mid  unstable    stable      stable      10   \n",
      "89    mid    mid       good   mid  unstable    stable      stable      15   \n",
      "\n",
      "   decision ADM-DECS  \n",
      "0                  A  \n",
      "1                  S  \n",
      "2                  A  \n",
      "3                  A  \n",
      "4                  A  \n",
      "5                  S  \n",
      "6                  S  \n",
      "7                  S  \n",
      "8                  S  \n",
      "9                  S  \n",
      "10                 A  \n",
      "11                 A  \n",
      "12                 A  \n",
      "13                 A  \n",
      "14                 S  \n",
      "15                 A  \n",
      "16                 A  \n",
      "17                 A  \n",
      "18                 A  \n",
      "19                 A  \n",
      "20                 A  \n",
      "21                 S  \n",
      "22                 A  \n",
      "23                 A  \n",
      "24                 A  \n",
      "25                 A  \n",
      "26                 A  \n",
      "27                 A  \n",
      "28                 A  \n",
      "29                 S  \n",
      "..               ...  \n",
      "60                 A  \n",
      "61                 A  \n",
      "62                 A  \n",
      "63                 S  \n",
      "64                 A  \n",
      "65                 S  \n",
      "66                 A  \n",
      "67                 A  \n",
      "68                 A  \n",
      "69                 A  \n",
      "70                 A  \n",
      "71                 A  \n",
      "72                 S  \n",
      "73                 A  \n",
      "74                 A  \n",
      "75                 A  \n",
      "76                 A  \n",
      "77                 A  \n",
      "78                 S  \n",
      "79                 A  \n",
      "80                 A  \n",
      "81                 S  \n",
      "82                 I  \n",
      "83                 A  \n",
      "84                 A  \n",
      "85                 A  \n",
      "86                 S  \n",
      "87                 A  \n",
      "88                 A  \n",
      "89                 S  \n",
      "\n",
      "[90 rows x 9 columns]\n",
      "\n",
      "1. Title: Postoperative Patient Data\n",
      "\n",
      "2. Source Information:\n",
      "   -- Creators: Sharon Summers, School of Nursing, University of Kansas\n",
      "                Medical Center, Kansas City, KS 66160\n",
      "                Linda Woolery, School of Nursing, University of Missouri,\n",
      "                Columbia, MO 65211\n",
      "   -- Donor:    Jerzy W. Grzymala-Busse (jerzy@cs.ukans.edu) (913)864-4488\n",
      "   -- Date:     June 1993\n",
      "\n",
      "3. Past Usage:\n",
      "   1. A. Budihardjo, J. Grzymala-Busse, L. Woolery (1991). Program LERS_LB 2.5\n",
      "      as a tool for knowledge acquisition in nursing, Proceedings of the 4th\n",
      "      Int. Conference on Industrial & Engineering Applications of AI & Expert\n",
      "      Systems, pp. 735-740.\n",
      "\n",
      "   2. L. Woolery, J. Grzymala-Busse, S. Summers, A. Budihardjo (1991). The use\n",
      "      of machine learning program LERS_LB 2.5 in knowledge acquisition for \n",
      "      expert system development in nursing. Computers in Nursing 9, pp. 227-234.\n",
      "\n",
      "4. Relevant Information:\n",
      "      The classification task of this database is to determine where\n",
      "      patients in a postoperative recovery area should be sent to next.  \n",
      "      Because hypothermia is a significant concern after surgery\n",
      "      (Woolery, L. et. al. 1991), the attributes correspond roughly to body \n",
      "      temperature measurements.\n",
      "\n",
      "      Results:\n",
      "      -- LERS (LEM2): 48% accuracy\n",
      "\n",
      "5. Number of Instances: 90\n",
      "\n",
      "6. Number of Attributes: 9 including the decision (class attribute)\n",
      "\n",
      "7. Attribute Information:\n",
      "     1. L-CORE (patient's internal temperature in C):\n",
      "              high (> 37), mid (>= 36 and <= 37), low (< 36)\n",
      "     2. L-SURF (patient's surface temperature in C):\n",
      "              high (> 36.5), mid (>= 36.5 and <= 35), low (< 35)\n",
      "     3. L-O2 (oxygen saturation in %):\n",
      "              excellent (>= 98), good (>= 90 and < 98),\n",
      "              fair (>= 80 and < 90), poor (< 80)\n",
      "     4. L-BP (last measurement of blood pressure):\n",
      "              high (> 130/90), mid (<= 130/90 and >= 90/70), low (< 90/70)\n",
      "     5. SURF-STBL (stability of patient's surface temperature):\n",
      "              stable, mod-stable, unstable\n",
      "     6. CORE-STBL (stability of patient's core temperature)\n",
      "              stable, mod-stable, unstable\n",
      "     7. BP-STBL (stability of patient's blood pressure)\n",
      "              stable, mod-stable, unstable\n",
      "     8. COMFORT (patient's perceived comfort at discharge, measured as\n",
      "              an integer between 0 and 20)\n",
      "     9. decision ADM-DECS (discharge decision):\n",
      "              I (patient sent to Intensive Care Unit),\n",
      "              S (patient prepared to go home),\n",
      "              A (patient sent to general hospital floor)\n",
      "\n",
      "8. Missing Attribute Values:\n",
      "     Attribute 8 has 3 missing values\n",
      "\n",
      "9. Class Distribution:\n",
      "     I (2)\n",
      "     S (24)\n",
      "     A (64)\n",
      "\n",
      "\n",
      "\n",
      "\n",
      "\n"
     ]
    }
   ],
   "source": [
    "#test to see whether text loaded properly\n",
    "print(INDEX_data)\n",
    "print(Post_OP_data)\n",
    "print(Post_OP_name)"
   ]
  },
  {
   "cell_type": "code",
   "execution_count": 45,
   "metadata": {},
   "outputs": [
    {
     "data": {
      "text/html": [
       "<div>\n",
       "<style scoped>\n",
       "    .dataframe tbody tr th:only-of-type {\n",
       "        vertical-align: middle;\n",
       "    }\n",
       "\n",
       "    .dataframe tbody tr th {\n",
       "        vertical-align: top;\n",
       "    }\n",
       "\n",
       "    .dataframe thead th {\n",
       "        text-align: right;\n",
       "    }\n",
       "</style>\n",
       "<table border=\"1\" class=\"dataframe\">\n",
       "  <thead>\n",
       "    <tr style=\"text-align: right;\">\n",
       "      <th></th>\n",
       "      <th>L-CORE</th>\n",
       "      <th>L-SURF</th>\n",
       "      <th>L-02</th>\n",
       "      <th>L-BP</th>\n",
       "      <th>SURF-STBL</th>\n",
       "      <th>CORE-STBL</th>\n",
       "      <th>BP-STBL</th>\n",
       "      <th>COMFORT</th>\n",
       "      <th>decision ADM-DECS</th>\n",
       "    </tr>\n",
       "  </thead>\n",
       "  <tbody>\n",
       "    <tr>\n",
       "      <th>0</th>\n",
       "      <td>mid</td>\n",
       "      <td>low</td>\n",
       "      <td>excellent</td>\n",
       "      <td>mid</td>\n",
       "      <td>stable</td>\n",
       "      <td>stable</td>\n",
       "      <td>stable</td>\n",
       "      <td>15</td>\n",
       "      <td>A</td>\n",
       "    </tr>\n",
       "    <tr>\n",
       "      <th>1</th>\n",
       "      <td>mid</td>\n",
       "      <td>high</td>\n",
       "      <td>excellent</td>\n",
       "      <td>high</td>\n",
       "      <td>stable</td>\n",
       "      <td>stable</td>\n",
       "      <td>stable</td>\n",
       "      <td>10</td>\n",
       "      <td>S</td>\n",
       "    </tr>\n",
       "    <tr>\n",
       "      <th>2</th>\n",
       "      <td>high</td>\n",
       "      <td>low</td>\n",
       "      <td>excellent</td>\n",
       "      <td>high</td>\n",
       "      <td>stable</td>\n",
       "      <td>stable</td>\n",
       "      <td>mod-stable</td>\n",
       "      <td>10</td>\n",
       "      <td>A</td>\n",
       "    </tr>\n",
       "    <tr>\n",
       "      <th>3</th>\n",
       "      <td>mid</td>\n",
       "      <td>low</td>\n",
       "      <td>good</td>\n",
       "      <td>high</td>\n",
       "      <td>stable</td>\n",
       "      <td>unstable</td>\n",
       "      <td>mod-stable</td>\n",
       "      <td>15</td>\n",
       "      <td>A</td>\n",
       "    </tr>\n",
       "    <tr>\n",
       "      <th>4</th>\n",
       "      <td>mid</td>\n",
       "      <td>mid</td>\n",
       "      <td>excellent</td>\n",
       "      <td>high</td>\n",
       "      <td>stable</td>\n",
       "      <td>stable</td>\n",
       "      <td>stable</td>\n",
       "      <td>10</td>\n",
       "      <td>A</td>\n",
       "    </tr>\n",
       "  </tbody>\n",
       "</table>\n",
       "</div>"
      ],
      "text/plain": [
       "  L-CORE L-SURF       L-02  L-BP SURF-STBL CORE-STBL     BP-STBL COMFORT  \\\n",
       "0    mid    low  excellent   mid    stable    stable      stable      15   \n",
       "1    mid   high  excellent  high    stable    stable      stable      10   \n",
       "2   high    low  excellent  high    stable    stable  mod-stable      10   \n",
       "3    mid    low       good  high    stable  unstable  mod-stable      15   \n",
       "4    mid    mid  excellent  high    stable    stable      stable      10   \n",
       "\n",
       "  decision ADM-DECS  \n",
       "0                 A  \n",
       "1                 S  \n",
       "2                 A  \n",
       "3                 A  \n",
       "4                 A  "
      ]
     },
     "execution_count": 45,
     "metadata": {},
     "output_type": "execute_result"
    }
   ],
   "source": [
    "#show data description\n",
    "Post_OP_data.head()"
   ]
  },
  {
   "cell_type": "code",
   "execution_count": 46,
   "metadata": {},
   "outputs": [],
   "source": [
    "#Preprocessing: remove rows with missing values\n",
    "Post_OP_data = Post_OP_data.replace(Post_OP_data == '?', np.nan).dropna()\n",
    "#Post_OP_data[Post_OP_data == '?'] = np.nan\n",
    "#Post_OP_data.dropna()\n",
    "#print(Post_OP_data)"
   ]
  },
  {
   "cell_type": "markdown",
   "metadata": {},
   "source": [
    "Second preprocessing stage: some values may (and were observed!) to be missing or left out (whether computer or human error). This stage replaces non-values, entered as \"?\", as \"not-a-number\" (NaN) and removes them. The entire row is removed in order to keep the data for each patient consistent."
   ]
  },
  {
   "cell_type": "code",
   "execution_count": 47,
   "metadata": {},
   "outputs": [],
   "source": [
    "#preprocessing: map comfort values to their float equivalents for plotting\n",
    "COMFORT_map = {'00':float(0), '01':float(1), '02':float(2), '03':float(3), '04':float(4), '05':float(5), '06':float(6), '07':float(7), '08':float(8), '09':float(9), '10':float(10), '11':float(11), '12':float(12), '13':float(13), '14':float(14), '15':float(15), '16':float(16), '17':float(17), '18':float(18), '19':float(19), '20':float(20)}\n",
    "Post_OP_data['COMFORT'] = Post_OP_data['COMFORT'].map(COMFORT_map)\n",
    "#print(Post_OP_data)"
   ]
  },
  {
   "cell_type": "markdown",
   "metadata": {},
   "source": [
    "Third preprocessing stage: the pd.read_csv command as listed processes values as string-type. Comfort values are represented as string values on the range of integers on [0,20], which are mapped to the corresponding float variables for plotting convenience."
   ]
  },
  {
   "cell_type": "markdown",
   "metadata": {},
   "source": [
    "Part B: Explore the dataset by using a plot to represent each of the relationships between the categorical features and \"comfort\". Interpret the results in a markdown cell."
   ]
  },
  {
   "cell_type": "code",
   "execution_count": 48,
   "metadata": {},
   "outputs": [
    {
     "data": {
      "image/png": "[encoded data removed]",
      "text/plain": [
       "<Figure size 432x288 with 1 Axes>"
      ]
     },
     "metadata": {},
     "output_type": "display_data"
    }
   ],
   "source": [
    "#plot COMFORT vs. L-CORE\n",
    "sns.set(style=\"ticks\", color_codes=True)\n",
    "sns.swarmplot(x=Post_OP_data['L-CORE'], y=Post_OP_data['COMFORT'], order = ['low', 'mid', 'high']);"
   ]
  },
  {
   "cell_type": "markdown",
   "metadata": {},
   "source": [
    "Standard internal body temperature, or L-CORE, is about 37 degrees Celsius. \"mid\" includes 36-37, \"high\" includes values greater than 37, and \"low\" includes values lower than 36. Therefore, it makes sense that greater comfort values are genearlly associated with mid-level internal temperatures. This is supported by a higher distribution of mid-level patients at higher comfort levels (specifically 15). As each category appears close to the \"middle\" comfort value of 10, it is likely that temperature is not as highly indicative of unhealth in comparison to other factors."
   ]
  },
  {
   "cell_type": "code",
   "execution_count": 49,
   "metadata": {},
   "outputs": [
    {
     "data": {
      "image/png": "[encoded data removed]",
      "text/plain": [
       "<Figure size 432x288 with 1 Axes>"
      ]
     },
     "metadata": {},
     "output_type": "display_data"
    }
   ],
   "source": [
    "sns.set(style=\"ticks\", color_codes=True)\n",
    "sns.swarmplot(x=Post_OP_data['L-SURF'], y=Post_OP_data['COMFORT'], order = ['low', 'mid', 'high']);"
   ]
  },
  {
   "cell_type": "markdown",
   "metadata": {},
   "source": [
    "Standard surface body temperature, or L-SURF, shows higher comfort values at middle values [35,36.5] degrees Celsius, as opposed to at high (above 36.6) or at low (below 35) levels. This indicates that normal temperature values could correlate with healthier conditions, but it is hard to differentiate low and mid cases based on these statistics. This makes sense since body surface temperature can vary depending on surrounding conditions. "
   ]
  },
  {
   "cell_type": "code",
   "execution_count": 50,
   "metadata": {},
   "outputs": [
    {
     "data": {
      "image/png": "[encoded data removed]",
      "text/plain": [
       "<Figure size 432x288 with 1 Axes>"
      ]
     },
     "metadata": {},
     "output_type": "display_data"
    }
   ],
   "source": [
    "sns.set(style=\"ticks\", color_codes=True)\n",
    "sns.swarmplot(x=Post_OP_data['L-02'], y=Post_OP_data['COMFORT'], order = ['poor', 'fair', 'good', 'excellent']);"
   ]
  },
  {
   "cell_type": "markdown",
   "metadata": {},
   "source": [
    "Standard Oxygen pressures should fall above 95 percent, with ranges of that include the following: poor (below 80%), fair (80-90%), good (90-98%), and excellent (98%). Good and excellent O2 values fall within acceptable ranges, so it makes sense that the comfort levels fall within the middle-to-high comfort ranges. NO patients fall within the poor-to-fair ranges; this indicates that low oxygen level was not a concern for the patients used in this dataset."
   ]
  },
  {
   "cell_type": "code",
   "execution_count": 51,
   "metadata": {},
   "outputs": [
    {
     "data": {
      "image/png": "[encoded data removed]",
      "text/plain": [
       "<Figure size 432x288 with 1 Axes>"
      ]
     },
     "metadata": {},
     "output_type": "display_data"
    }
   ],
   "source": [
    "sns.set(style=\"ticks\", color_codes=True)\n",
    "sns.swarmplot(x=Post_OP_data['L-BP'], y=Post_OP_data['COMFORT'], order = ['low', 'mid', 'high']);"
   ]
  },
  {
   "cell_type": "markdown",
   "metadata": {},
   "source": [
    "The middle-level blood pressure (BP) represents a healthy range for the general population of [90/70, 130/90], with high levels above this range and low levels below this range. More patients are found at higher comfort levels for this middle-BP range, which makes sense because healthy BP serves as a general representation of health (which insinuates higher comfort than otherwise). Lower BP values were rarely found; they were never found for patients with comfort values in the upper half of the range (above 10)."
   ]
  },
  {
   "cell_type": "code",
   "execution_count": 52,
   "metadata": {},
   "outputs": [
    {
     "data": {
      "image/png": "[encoded data removed]",
      "text/plain": [
       "<Figure size 432x288 with 1 Axes>"
      ]
     },
     "metadata": {},
     "output_type": "display_data"
    }
   ],
   "source": [
    "sns.set(style=\"ticks\", color_codes=True)\n",
    "sns.swarmplot(x=Post_OP_data['SURF-STBL'], y=Post_OP_data['COMFORT'], order = ['unstable', 'mod-stable', 'stable']);"
   ]
  },
  {
   "cell_type": "markdown",
   "metadata": {},
   "source": [
    "The feature \"SURF-STBL\" indicates whether a person's body surface temperature was stable. It makes sense that many patients with surface temperatures that are not considered stable or moderately stable could still have average or mid-level comfort values, as body surface values are more subject to external variables or manipulators that features such as internal body temperature (which are more tightly regulated)."
   ]
  },
  {
   "cell_type": "code",
   "execution_count": 53,
   "metadata": {},
   "outputs": [
    {
     "data": {
      "image/png": "[encoded data removed]",
      "text/plain": [
       "<Figure size 432x288 with 1 Axes>"
      ]
     },
     "metadata": {},
     "output_type": "display_data"
    }
   ],
   "source": [
    "sns.set(style=\"ticks\", color_codes=True)\n",
    "sns.swarmplot(x=Post_OP_data['CORE-STBL'], y=Post_OP_data['COMFORT'], order = ['unstable', 'mod-stable', 'stable']);"
   ]
  },
  {
   "cell_type": "markdown",
   "metadata": {},
   "source": [
    "The feature CORE-STBL represents the stability of the patients' internal body temperature. It makes sense that stable internal body temperature has greater correlation to higher comfort levels. Since the classification task focuses on hypothermia as a significant concern, it may also be possible that those with low comfort levels and unstable core temperatures may not be as likely to be sufficiently coherrent or able to answer the comfort, self-reported question (if a patient's condition renders him/her unresponsive)."
   ]
  },
  {
   "cell_type": "code",
   "execution_count": 54,
   "metadata": {},
   "outputs": [
    {
     "data": {
      "image/png": "[encoded data removed]",
      "text/plain": [
       "<Figure size 432x288 with 1 Axes>"
      ]
     },
     "metadata": {},
     "output_type": "display_data"
    }
   ],
   "source": [
    "sns.set(style=\"ticks\", color_codes=True)\n",
    "sns.swarmplot(x=Post_OP_data['BP-STBL'], y=Post_OP_data['COMFORT'], order = ['unstable', 'mod-stable', 'stable']);"
   ]
  },
  {
   "cell_type": "markdown",
   "metadata": {},
   "source": [
    "It is apparent and logical that stable blood pressures correlate to higher comfort levels. The distribution of comfort scores is shifted upwards for stable cases in comparison to the unstable and moderately stable cases. Blood pressure would more likely to be unstable in cases of hypothermia, in which it is more likely to be heightened in mild hypothermia and decreased in severe hypothermia."
   ]
  },
  {
   "cell_type": "code",
   "execution_count": 55,
   "metadata": {},
   "outputs": [
    {
     "data": {
      "image/png": "[encoded data removed]",
      "text/plain": [
       "<Figure size 432x288 with 1 Axes>"
      ]
     },
     "metadata": {},
     "output_type": "display_data"
    }
   ],
   "source": [
    "sns.set(style=\"ticks\", color_codes=True)\n",
    "sns.swarmplot(x=Post_OP_data['decision ADM-DECS'], y=Post_OP_data['COMFORT'], order = ['I', 'A', 'S']);"
   ]
  },
  {
   "cell_type": "markdown",
   "metadata": {},
   "source": [
    "\"Decision ADM-DECS\" represents the final classification used to label patients based on the input features. The categories for labeling include the following: I = sent to the intensive care unit, A = sent to a general hospital floor, S = sent home. It makes sense that higher comfort levels would correlate to labels A or S. While more patients with higher comfort levels seem to fall under A rather than S, this could perhaps be influenced by the type of surgery that was performed and other additional attributes outside of those collected. It is also interesting that the overall accuracy of this approach was reported as 48%, which is fairly low. Further analysis would benefit from comparision of final label (attribute decision ADM-DECS) versus the true label (groundtruth). There were a fair number of patients who were reported as having unstable BP and internal and external temperatures versus the instances labeled as I. It is also possible that the hospital is more likely to send patients designated as mild to the general floor. Perhaps an attribute of hypothermia for 0-3 would benefit: 0 (negative), 1 (mild), 2 (moderate), 3 (severe)."
   ]
  }
 ],
 "metadata": {
  "kernelspec": {
   "display_name": "Python 3",
   "language": "python",
   "name": "python3"
  },
  "language_info": {
   "codemirror_mode": {
    "name": "ipython",
    "version": 3
   },
   "file_extension": ".py",
   "mimetype": "text/x-python",
   "name": "python",
   "nbconvert_exporter": "python",
   "pygments_lexer": "ipython3",
   "version": "3.6.5"
  }
 },
 "nbformat": 4,
 "nbformat_minor": 2
}
